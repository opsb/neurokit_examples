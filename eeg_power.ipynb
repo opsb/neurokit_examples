{
 "cells": [
  {
   "cell_type": "markdown",
   "metadata": {},
   "source": [
    "# EEG Power in Frequency Bands"
   ]
  },
  {
   "cell_type": "markdown",
   "metadata": {},
   "source": [
    "This example can be referenced by [citing the package](https://github.com/neuropsychology/NeuroKit#citation).\n",
    "\n",
    "This small tutorial will show you how to use Python to estimate the best fitting line to some data. This can be used to find the optimal line passing through a signal."
   ]
  },
  {
   "cell_type": "code",
   "execution_count": 11,
   "metadata": {},
   "outputs": [],
   "source": [
    "# Load packages\n",
    "import numpy as np\n",
    "import pandas as pd\n",
    "import matplotlib.pyplot as plt\n",
    "%matplotlib inline\n",
    "import neurokit2 as nk\n",
    "\n",
    "plt.rcParams['figure.figsize'] = [14, 8]  # Increase plot size"
   ]
  },
  {
   "cell_type": "markdown",
   "metadata": {},
   "source": [
    "## Introduction"
   ]
  },
  {
   "cell_type": "markdown",
   "metadata": {},
   "source": [
    "## Frequency Bands\n",
    "\n",
    "From fastest to slowest:\n",
    "\n",
    "  - **Gamma** (30-80 Hz)\n",
    "  - **Beta** (13-30 Hz): Strongest in the frontocentral regions.\n",
    "    - **Beta 1** (13–16 Hz)\n",
    "    - **Beta 2** (16–20 Hz)\n",
    "    - **Beta 3** (20–28 Hz)\n",
    "  - **SMR** (13-15 Hz): Sensorimotor rhythm over the sensorimotor cortex. SMR typically decreases in amplitude when the corresponding sensory or motor areas are activated.\n",
    "  - **Alpha** (8-13 Hz): Strongest in the occipital areas at the back of the scalp (visual cortex). Alpha power is assumed to be inversely related to cortical activation. Alpha power could be regarded as an index of top-down processing, representing a mechanism for increasing the signal-to-noise ratio.\n",
    "  - **Mu** (9-11 Hz): The mu rhythm can be found in the frontoparietal region: over the motor cortex, in a band approximately from ear to ear.\n",
    "  - **Theta** (4-8 Hz): Midline theta is usually maximal in the frontal or fronto-central regions.\n",
    "  - **Delta** (1-4 Hz): Strongest in frontal areas. Inhibition of the sensory afferences (Harmony, 2013).\n",
    "\n",
    "Note that the ranges are approximate and artificial, and studies are quite [inconsistent](https://sapienlabs.org/the-remarkable-inconsistency-of-frequency-band-definitions/) in their definition. "
   ]
  },
  {
   "cell_type": "markdown",
   "metadata": {},
   "source": [
    "### Frontal Alpha Asymmetry (FAA)"
   ]
  },
  {
   "cell_type": "markdown",
   "metadata": {},
   "source": [
    "### Frontal Midline Theta (FMT)\n",
    "\n",
    "\n",
    "\n"
   ]
  },
  {
   "cell_type": "markdown",
   "metadata": {},
   "source": [
    "## 1/f Electrophysiological Noise"
   ]
  },
  {
   "cell_type": "markdown",
   "metadata": {},
   "source": [
    "Electrophysiological signal is not a simple superposition of sinusoids of various frequencies, and its spectrum should not be interpreted as such. \n",
    "\n",
    "Individual frequencies are indeed not independent of one another (Milotti, 2002). The EEG power spectrum is dominantly structured by a decreasing function with lower power at higher frequencies that approximates a **1/f pattern** (Pritchard, 1992; Voytek et al., 2015). There is an inverse relationship between frequency and power, and the steepness with which the power drops off as the frequency gets higher is represented by the exponent γ.\n",
    "\n",
    "Estimation of the 1/f exponent γ (Voytek et al., 2015) provides a consolidated view of the differences across bands and can be used to compute the difference between any two frequencies if desired. The 1/f decay exponent is best estimated in the range of 2–30 Hz where baseline drifts, line noise and distortions introduced by band pass filters have the least impact (Newson, 2019).\n"
   ]
  }
 ],
 "metadata": {
  "kernelspec": {
   "display_name": "Python 3",
   "language": "python",
   "name": "python3"
  },
  "language_info": {
   "codemirror_mode": {
    "name": "ipython",
    "version": 3
   },
   "file_extension": ".py",
   "mimetype": "text/x-python",
   "name": "python",
   "nbconvert_exporter": "python",
   "pygments_lexer": "ipython3",
   "version": "3.9.7"
  }
 },
 "nbformat": 4,
 "nbformat_minor": 2
}
